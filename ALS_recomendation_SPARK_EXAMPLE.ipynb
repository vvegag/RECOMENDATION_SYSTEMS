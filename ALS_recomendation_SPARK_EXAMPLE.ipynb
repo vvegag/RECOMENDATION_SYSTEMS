{
  "nbformat": 4,
  "nbformat_minor": 0,
  "metadata": {
    "colab": {
      "provenance": [],
      "authorship_tag": "ABX9TyN2LO7Ou3aI0CRyaCdgyiBN",
      "include_colab_link": true
    },
    "kernelspec": {
      "name": "python3",
      "display_name": "Python 3"
    },
    "language_info": {
      "name": "python"
    }
  },
  "cells": [
    {
      "cell_type": "markdown",
      "metadata": {
        "id": "view-in-github",
        "colab_type": "text"
      },
      "source": [
        "<a href=\"https://colab.research.google.com/github/vvegag/RECOMENDATION_SYSTEMS/blob/main/ALS_recomendation_SPARK_EXAMPLE.ipynb\" target=\"_parent\"><img src=\"https://colab.research.google.com/assets/colab-badge.svg\" alt=\"Open In Colab\"/></a>"
      ]
    },
    {
      "cell_type": "code",
      "source": [
        "# !apt-get install openjdk-8-jdk-headless -qq > /dev/null"
      ],
      "metadata": {
        "id": "IOD5UihHK4cE"
      },
      "execution_count": 4,
      "outputs": []
    },
    {
      "cell_type": "code",
      "source": [
        "#wget -q \"http://archive.apache.org/dist/spark/spark-3.1.1/spark-3.1.1-bin-hadoop3.2.tg\""
      ],
      "metadata": {
        "id": "QcuaB7G2LDA1"
      },
      "execution_count": 54,
      "outputs": []
    },
    {
      "cell_type": "code",
      "source": [
        "#tar xf spark-3.1.1-bin-hadoop3.2.tgz"
      ],
      "metadata": {
        "id": "QOb4MxY6LMXc"
      },
      "execution_count": null,
      "outputs": []
    },
    {
      "cell_type": "code",
      "source": [
        "#pip install -q findspark"
      ],
      "metadata": {
        "id": "UUbT5k9nLKp3"
      },
      "execution_count": 2,
      "outputs": []
    },
    {
      "cell_type": "code",
      "source": [],
      "metadata": {
        "id": "fLUx6ZegOl49"
      },
      "execution_count": null,
      "outputs": []
    },
    {
      "cell_type": "code",
      "source": [
        " #pip install pyspark"
      ],
      "metadata": {
        "colab": {
          "base_uri": "https://localhost:8080/"
        },
        "id": "xQ8K6O2yKkr9",
        "outputId": "d74a0012-c320-4e45-f310-8aadc52bd8b6"
      },
      "execution_count": 3,
      "outputs": [
        {
          "output_type": "stream",
          "name": "stdout",
          "text": [
            "Requirement already satisfied: pyspark in /usr/local/lib/python3.11/dist-packages (3.5.4)\n",
            "Requirement already satisfied: py4j==0.10.9.7 in /usr/local/lib/python3.11/dist-packages (from pyspark) (0.10.9.7)\n"
          ]
        }
      ]
    },
    {
      "cell_type": "code",
      "source": [
        "#import pandas as pd"
      ],
      "metadata": {
        "id": "2XjwE7oVLv6k"
      },
      "execution_count": 10,
      "outputs": []
    },
    {
      "cell_type": "code",
      "source": [
        "from pyspark.sql import SparkSession\n",
        "# spark = SparkSession.builder.getOrCreate()\n",
        "\n",
        "from pyspark.ml.recommendation import ALS, ALSModel  ## Import ALSModel along with ALS\n",
        "\n",
        "spark = SparkSession.builder.getOrCreate()"
      ],
      "metadata": {
        "id": "UI0k5jrHLycB"
      },
      "execution_count": 26,
      "outputs": []
    },
    {
      "cell_type": "code",
      "source": [
        "import tempfile\n",
        "# Create a temporary directory using tempfile\n",
        "temp_path2 = tempfile.mkdtemp()"
      ],
      "metadata": {
        "id": "XTU62NvnNoRo"
      },
      "execution_count": 27,
      "outputs": []
    },
    {
      "cell_type": "code",
      "source": [
        "temp_path = \"/content/Test2\""
      ],
      "metadata": {
        "id": "6ypHGKcqPJL4"
      },
      "execution_count": 36,
      "outputs": []
    },
    {
      "cell_type": "code",
      "source": [
        "temp_path"
      ],
      "metadata": {
        "colab": {
          "base_uri": "https://localhost:8080/",
          "height": 36
        },
        "id": "kOZltUaZQ8Ii",
        "outputId": "781220b4-2ef2-4163-ed06-9bdca2fa4c00"
      },
      "execution_count": 37,
      "outputs": [
        {
          "output_type": "execute_result",
          "data": {
            "text/plain": [
              "'/content/Test2'"
            ],
            "application/vnd.google.colaboratory.intrinsic+json": {
              "type": "string"
            }
          },
          "metadata": {},
          "execution_count": 37
        }
      ]
    },
    {
      "cell_type": "code",
      "execution_count": 29,
      "metadata": {
        "colab": {
          "base_uri": "https://localhost:8080/"
        },
        "id": "f9_mnkUyKQni",
        "outputId": "c0560a8c-3986-4f35-9f5e-e228418ccfc5"
      },
      "outputs": [
        {
          "output_type": "execute_result",
          "data": {
            "text/plain": [
              "Row(user=[0, 1, 2], rating=[3.9102137088775635, 3.473569869995117, -0.899198055267334])"
            ]
          },
          "metadata": {},
          "execution_count": 29
        }
      ],
      "source": [
        "df = spark.createDataFrame(\n",
        "    [(0, 0, 4.0), (0, 1, 2.0), (1, 1, 3.0), (1, 2, 4.0), (2, 1, 1.0), (2, 2, 5.0)],\n",
        "    [\"user\", \"item\", \"rating\"])\n",
        "als = ALS(rank=10, seed=0)\n",
        "als.setMaxIter(5)\n",
        "\n",
        "als.getMaxIter()\n",
        "\n",
        "als.setRegParam(0.1)\n",
        "\n",
        "als.getRegParam()\n",
        "\n",
        "als.clear(als.regParam)\n",
        "model = als.fit(df)\n",
        "model.getBlockSize()\n",
        "\n",
        "model.getUserCol()\n",
        "\n",
        "model.setUserCol(\"user\")\n",
        "\n",
        "model.getItemCol()\n",
        "\n",
        "model.setPredictionCol(\"newPrediction\")\n",
        "\n",
        "model.rank\n",
        "\n",
        "model.userFactors.orderBy(\"id\").collect()\n",
        "\n",
        "test = spark.createDataFrame([(0, 2), (1, 0), (2, 0)], [\"user\", \"item\"])\n",
        "predictions = sorted(model.transform(test).collect(), key=lambda r: r[0])\n",
        "predictions[0]\n",
        "\n",
        "predictions[1]\n",
        "\n",
        "predictions[2]\n",
        "\n",
        "user_recs = model.recommendForAllUsers(3)\n",
        "user_recs.where(user_recs.user == 0)        .select(\"recommendations.item\", \"recommendations.rating\").collect()\n",
        "\n",
        "item_recs = model.recommendForAllItems(3)\n",
        "item_recs.where(item_recs.item == 2)        .select(\"recommendations.user\", \"recommendations.rating\").collect()\n",
        "\n",
        "user_subset = df.where(df.user == 2)\n",
        "user_subset_recs = model.recommendForUserSubset(user_subset, 3)\n",
        "user_subset_recs.select(\"recommendations.item\", \"recommendations.rating\").first()\n",
        "\n",
        "item_subset = df.where(df.item == 0)\n",
        "item_subset_recs = model.recommendForItemSubset(item_subset, 3)\n",
        "item_subset_recs.select(\"recommendations.user\", \"recommendations.rating\").first()\n",
        "\n",
        "\n"
      ]
    },
    {
      "cell_type": "code",
      "source": [
        "predictions[2]\n"
      ],
      "metadata": {
        "colab": {
          "base_uri": "https://localhost:8080/"
        },
        "id": "4zjbZk7pGQGv",
        "outputId": "db3c2c80-10ae-4c03-d9da-4f8009aab742"
      },
      "execution_count": 38,
      "outputs": [
        {
          "output_type": "execute_result",
          "data": {
            "text/plain": [
              "Row(user=2, item=0, newPrediction=-0.899198055267334)"
            ]
          },
          "metadata": {},
          "execution_count": 38
        }
      ]
    },
    {
      "cell_type": "code",
      "source": [
        "# Now you can use temp_path to save and load the model\n",
        "als_path = temp_path + \"/als\"\n",
        "als.save(als_path)\n",
        "als2 = ALS.load(als_path)\n",
        "als.getMaxIter()\n",
        "\n",
        "model_path = temp_path + \"/als_model\"\n",
        "model.save(model_path)\n"
      ],
      "metadata": {
        "id": "5cZniW3UQrKN"
      },
      "execution_count": 39,
      "outputs": []
    },
    {
      "cell_type": "code",
      "source": [
        "model_path\n"
      ],
      "metadata": {
        "colab": {
          "base_uri": "https://localhost:8080/",
          "height": 36
        },
        "id": "MWRS7f3yNW3O",
        "outputId": "0089ead8-d3d8-4f5b-9f6e-fb6f157b5b05"
      },
      "execution_count": 45,
      "outputs": [
        {
          "output_type": "execute_result",
          "data": {
            "text/plain": [
              "'/content/Test2/als_model'"
            ],
            "application/vnd.google.colaboratory.intrinsic+json": {
              "type": "string"
            }
          },
          "metadata": {},
          "execution_count": 45
        }
      ]
    },
    {
      "cell_type": "code",
      "source": [
        "model2 = ALSModel.load(model_path)\n",
        "\n",
        "model.rank == model2.rank\n",
        "\n",
        "sorted(model.userFactors.collect()) == sorted(model2.userFactors.collect())\n",
        "\n",
        "sorted(model.itemFactors.collect()) == sorted(model2.itemFactors.collect())\n",
        "\n",
        "model.transform(test).take(1) == model2.transform(test).take(1)"
      ],
      "metadata": {
        "colab": {
          "base_uri": "https://localhost:8080/"
        },
        "id": "Do11U2GSQ1D8",
        "outputId": "984b5af6-34be-4091-a1b6-6fcf68caadcf"
      },
      "execution_count": 40,
      "outputs": [
        {
          "output_type": "execute_result",
          "data": {
            "text/plain": [
              "True"
            ]
          },
          "metadata": {},
          "execution_count": 40
        }
      ]
    },
    {
      "cell_type": "code",
      "source": [
        "#Testando o modelo 2\n",
        "predictions = sorted(model2.transform(test).collect(), key=lambda r: r[0])\n",
        "predictions[0]"
      ],
      "metadata": {
        "colab": {
          "base_uri": "https://localhost:8080/"
        },
        "id": "uzZAh0aPLTFU",
        "outputId": "ae4559da-cf47-4e86-a20d-637b55577c90"
      },
      "execution_count": 53,
      "outputs": [
        {
          "output_type": "execute_result",
          "data": {
            "text/plain": [
              "Row(user=0, item=2, newPrediction=0.6929104924201965)"
            ]
          },
          "metadata": {},
          "execution_count": 53
        }
      ]
    }
  ]
}